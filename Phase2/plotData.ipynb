{
  "nbformat": 4,
  "nbformat_minor": 0,
  "metadata": {
    "colab": {
      "name": "Untitled9.ipynb",
      "provenance": []
    },
    "kernelspec": {
      "name": "python3",
      "display_name": "Python 3"
    }
  },
  "cells": [
    {
      "cell_type": "code",
      "metadata": {
        "id": "ePTOM_MBbfPb",
        "colab_type": "code",
        "colab": {}
      },
      "source": [
        "\n",
        "import matplotlib.pyplot as plt\n",
        "\n",
        "#To generate the plot\n",
        "def plot(x, y, col, xlab, ylab, main, sub):\n",
        "    plt.plot(x, y, color=col)\n",
        "    plt.xlabel(xlab)\n",
        "    plt.ylabel(ylab)\n",
        "    plt.suptitle(main)\n",
        "    plt.figtext(\n",
        "        0.5,\n",
        "        0.01,\n",
        "        sub,\n",
        "        wrap=True,\n",
        "        horizontalalignment='center',\n",
        "        fontsize=12)\n",
        "    plt.legend()\n",
        "    plt.show()\n",
        "\n",
        "\n",
        "def gaussian(x,a,b,c):\n",
        " return (a * math.exp((-0.5) * ((x - b)*(x - b)) / (c*c)))"
      ],
      "execution_count": 0,
      "outputs": []
    }
  ]
}
