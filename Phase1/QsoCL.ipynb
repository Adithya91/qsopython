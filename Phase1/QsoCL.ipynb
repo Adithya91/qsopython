{
  "nbformat": 4,
  "nbformat_minor": 0,
  "metadata": {
    "colab": {
      "name": "Untitled9.ipynb",
      "provenance": []
    },
    "kernelspec": {
      "name": "python3",
      "display_name": "Python 3"
    }
  },
  "cells": [
    {
      "cell_type": "code",
      "metadata": {
        "id": "ePTOM_MBbfPb",
        "colab_type": "code",
        "colab": {}
      },
      "source": [
        "\n",
        "class QsoCL:\n",
        "  def __init__(self):\n",
        "    print(\"Constructor Initialized\")\n",
        "    # Context\n",
        "    self.ctx = cl.create_some_context()\n",
        "\n",
        "    # Platform and device information\n",
        "    self.platforms = cl.get_platforms()\n",
        "    self.devices = self.platforms[0].get_devices(cl.device_type.GPU)\n",
        "\n",
        "    # group size\n",
        "    self.maxWorkGroupSize = self.devices[0].max_work_group_size    \n",
        "       \n",
        "    # kernel files location\n",
        "    self.kernelpath = '/qsopython/kernel/'\n",
        "    \n",
        "  def buildKernel(self, kernelfile):\n",
        "    f = open(os.path.join(self.kernelpath, kernelfile), 'r')\n",
        "    fstr = ''.join(f.readlines())\n",
        "    clFunc = cl.Program(self.ctx, fstr).build()\n",
        "    f.close()\n",
        "    return clFunc\n",
        "\n",
        "  def calcGlobalSize(self, dataSize):\n",
        "    size = dataSize\n",
        "    remainder = size % self.maxWorkGroupSize\n",
        "    if (remainder != 0):\n",
        "        size += self.maxWorkGroupSize - remainder\n",
        "    if (size < dataSize):\n",
        "        print(\"Error in calculating global_work_size.\")\n",
        "    return size\n",
        "  #To create buffer object with read-only access\n",
        "  def readBuffer(self,inputMatrix):\n",
        "   mf = cl.mem_flags\n",
        "   readBuff = cl.Buffer(self.ctx, mf.READ_ONLY | mf.COPY_HOST_PTR, hostbuf=inputMatrix)\n",
        "   return readBuff\n",
        "  #To create buffer object with write-only access\n",
        "  def writeBuffer(self,outputMatrix):\n",
        "   mf = cl.mem_flags\n",
        "   writeBuff = cl.Buffer(self.ctx, mf.WRITE_ONLY, outputMatrix.nbytes)\n",
        "   return writeBuff\n",
        "  #To create buffer with read-write access\n",
        "  def makeBuffer(self,inputMatrix):\n",
        "   mf = cl.mem_flags\n",
        "   readBuff = cl.Buffer(self.ctx, mf.READ_WRITE | mf.COPY_HOST_PTR, hostbuf=inputMatrix)\n",
        "   return readBuff\n",
        "  \n"
      ],
      "execution_count": 0,
      "outputs": []
    }
  ]
}
