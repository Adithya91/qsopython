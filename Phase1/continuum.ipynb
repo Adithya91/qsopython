#!/usr/bin/env python

import pyopencl as cl
import numpy as np
from Quasarcl import *
ASTRO_OBJ_SPEC_SIZE = 4096


def calcGlobalSize(workGroupMultiple, dataSize):
    size = dataSize
    remainder = size % workGroupMultiple
    if (remainder != 0):
        size += workGroupMultiple - remainder
    if (size < dataSize):
        print("Error in calculating global_work_size.")
    return size

#fix the linear regression results
def fixReglinResults(QuasarCL,cReglinResults, reglinResults):
    queue = cl.CommandQueue(QuasarCL.ctx)
    
    size = len(cReglinResults)
    print(size)
    cReg = np.zeros((size,8), dtype=np.double)
    reg =  np.zeros((size,8), dtype=np.double)
    cr_g = QuasarCL.makeBuffer(cReglinResults)
    r_g = QuasarCL.makeBuffer(reglinResults)
    globalSize = QuasarCL.calcGlobalSize(size)

    _knl = QuasarCL.buildKernel('continuum_kernels.cl').fix_reglin_results
    _knl.set_scalar_arg_dtypes(
        [None, None, np.uint32])
    _knl(queue, (globalSize,),
         (QuasarCL.maxWorkGroupSize,), cr_g, r_g, size)
    cl.enqueue_copy(queue, cReg, cr_g)
    cl.enqueue_copy(queue, reg, r_g)
    reglin_dict = {"cReglinResults":cReg,"reglinResults":reg}
    return reglin_dict


def calcCw(QuasarCL,wavelengthsMatrixFiltered, cReglinResults):
    queue = cl.CommandQueue(QuasarCL.ctx)
    
    h = wavelengthsMatrixFiltered.shape[0]  # spectrumsSize
    print(h)
    w = wavelengthsMatrixFiltered.shape[1]  # spectrumsNumber
    globalSize = QuasarCL.calcGlobalSize(h)

    continuum = np.zeros((h, w), dtype=np.double)

    wav_g = QuasarCL.readBuffer(wavelengthsMatrixFiltered)
    creg_g = QuasarCL.readBuffer(cReglinResults)

    cont_g = QuasarCL.writeBuffer(continuum)

    _knl = QuasarCL.buildKernel('continuum_kernels.cl').calc_cw
    _knl.set_scalar_arg_dtypes(
        [None, None, np.uint32, None])
    _knl(queue, (w, globalSize),
         (1, QuasarCL.maxWorkGroupSize), wav_g, cont_g, h, creg_g)
    cl.enqueue_copy(queue, continuum, cont_g)
    return continuum

#filter the continuum with Chi-squared test
def reduceContinuumChisqs(QuasarCL,chisqs, sizesVector):
    queue = cl.CommandQueue(QuasarCL.ctx)
    
    size = len(chisqs)
    chis = chisqs
    chisqs_g = QuasarCL.readBuffer(chis)
    sizes = QuasarCL.readBuffer(sizesVector)
    
    globalSize = QuasarCL.calcGlobalSize(size)

    _knl = QuasarCL.buildKernel('continuum_kernels.cl').reduce_continuum_chisqs

    _knl.set_scalar_arg_dtypes(
        [None, None, np.uint32])
    _knl(queue, (globalSize,),
         (QuasarCL.maxWorkGroupSize,), chisqs_g, sizes, size)
    cl.enqueue_copy(queue, chis, chisqs_g)
    return chis

def calcCfunDcfun(QuasarCL,
        wavelengthsMatrix,
        cReglinResultsVector,
        reglinResultsVector):
    queue = cl.CommandQueue(QuasarCL.ctx)
        
    h = wavelengthsMatrix.shape[0]  # spectrumsSize
    w = wavelengthsMatrix.shape[1]  # spectrumsNumber
    
    cReglinResultsVector = cReglinResultsVector.astype('double')
    reglinResultsVector = reglinResultsVector.astype('double')
    dContinuums = np.zeros((h, w), dtype=np.double)
    continuums = np.zeros((h, w), dtype=np.double)

    wav_g = QuasarCL.readBuffer(wavelengthsMatrix)
    dCon_g = QuasarCL.writeBuffer(dContinuums)
    con_g = QuasarCL.writeBuffer(continuums)
    cReg_g = QuasarCL.readBuffer(cReglinResultsVector)
    reg_g = QuasarCL.readBuffer(reglinResultsVector)

    _knl = QuasarCL.buildKernel('continuum_kernels.cl').calc_cfun_dcfun
    _knl(queue, (w, ASTRO_OBJ_SPEC_SIZE),
         (1, QuasarCL.maxWorkGroupSize), wav_g, dCon_g, con_g, cReg_g, reg_g)
    cl.enqueue_copy(queue, dContinuums, dCon_g)
    cl.enqueue_copy(queue, continuums, dCon_g)
    cont_dict= {"dContinuum":dContinuums,
                "continuum":continuums
               }
    return cont_dict
