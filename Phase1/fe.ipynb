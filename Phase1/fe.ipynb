{
  "nbformat": 4,
  "nbformat_minor": 0,
  "metadata": {
    "colab": {
      "name": "Untitled9.ipynb",
      "provenance": []
    },
    "kernelspec": {
      "name": "python3",
      "display_name": "Python 3"
    }
  },
  "cells": [
    {
      "cell_type": "code",
      "metadata": {
        "id": "ePTOM_MBbfPb",
        "colab_type": "code",
        "colab": {}
      },
      "source": [
        "import pyopencl as cl\n",
        "import numpy as np\n",
        "from tools import chisqR\n",
        "ASTRO_OBJ_SPEC_SIZE = 4096\n",
        "\n",
        "#To filter iron templates after Chi-squared test\n",
        "def calcReducedChisqs(QsoCL,fMatrix_,yMatrix_,errorsMatrix_,sizesVector_):\n",
        " queue = cl.CommandQueue(QsoCL.ctx)\n",
        "\n",
        " h = fMatrix_.shape[0]  # spectrumsSize\n",
        " w = fMatrix_.shape[1]  # spectrumsNumber\n",
        " globalSize = QsoCL.calcGlobalSize(w)\n",
        " chisqResults= chisqR(QsoCL,fMatrix_,yMatrix_,errorsMatrix_,sizesVector_)\n",
        " print(\"after chisqR interfun\")\n",
        " print(chisqResults)\n",
        " print(sizesVector_)\n",
        " chisq_g = QsoCL.makeBuffer(chisqResults)\n",
        " sizes_g = QsoCL.readBuffer(sizesVector_)\n",
        "\n",
        " _knl = QsoCL.buildKernel('fe_kernels.cl').reduce_fe_chisqs\n",
        " _knl.set_scalar_arg_dtypes(\n",
        "        [None, None,np.uint32])\n",
        " _knl(queue, (globalSize,),\n",
        "         (QsoCL.maxWorkGroupSize,), chisq_g, sizes_g, w)\n",
        " cl.enqueue_copy(queue, chisqResults, chisq_g)\n",
        " return chisqResults\n"
      ],
      "execution_count": 0,
      "outputs": []
    }
  ]
}
